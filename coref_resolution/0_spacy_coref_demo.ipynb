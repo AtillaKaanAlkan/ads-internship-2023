{
 "cells": [
  {
   "cell_type": "markdown",
   "metadata": {},
   "source": [
    "## Spacy's coreference resolution model demo"
   ]
  },
  {
   "cell_type": "markdown",
   "metadata": {},
   "source": [
    "#### Installation Requirements"
   ]
  },
  {
   "cell_type": "markdown",
   "metadata": {},
   "source": [
    "###### Follow the instructions: https://github.com/explosion/spacy-experimental/releases/tag/v0.6.0"
   ]
  },
  {
   "cell_type": "markdown",
   "metadata": {},
   "source": [
    "#### Testing on an Example"
   ]
  },
  {
   "cell_type": "code",
   "execution_count": 2,
   "metadata": {},
   "outputs": [
    {
     "name": "stderr",
     "output_type": "stream",
     "text": [
      "/home/alkan/.local/lib/python3.8/site-packages/tqdm/auto.py:22: TqdmWarning: IProgress not found. Please update jupyter and ipywidgets. See https://ipywidgets.readthedocs.io/en/stable/user_install.html\n",
      "  from .autonotebook import tqdm as notebook_tqdm\n",
      "/usr/lib/python3/dist-packages/requests/__init__.py:89: RequestsDependencyWarning: urllib3 (1.26.14) or chardet (3.0.4) doesn't match a supported version!\n",
      "  warnings.warn(\"urllib3 ({}) or chardet ({}) doesn't match a supported \"\n"
     ]
    }
   ],
   "source": [
    "import spacy\n",
    "\n",
    "nlp = spacy.load('en_coreference_web_trf')\n",
    "\n",
    "# read the text file (fulltext of ATel no. 16146)\n",
    "with open('text_example') as f:\n",
    "    f = f.read()\n",
    "\n",
    "doc = nlp(f)"
   ]
  },
  {
   "cell_type": "code",
   "execution_count": 3,
   "metadata": {},
   "outputs": [
    {
     "name": "stdout",
     "output_type": "stream",
     "text": [
      "=== word clusters ===\n",
      "=== full clusters ===\n",
      "[the blazars sample, its]\n",
      "[Our team, Our, we, Our, us, our, Our, We]\n",
      "[1-meter Zeiss-1000 and 0.5-meter RC-500 reflectors, equipped with BVRI CCD photometers, these telescopes, the both telescopes]\n",
      "[S4 0133+47, blazar's, it's, The object, the blazar, S4 0133+47, the blazar, its]\n",
      "[June, June]\n"
     ]
    }
   ],
   "source": [
    "# check the word clusters\n",
    "print(\"=== word clusters ===\")\n",
    "word_clusters = [val for key, val in doc.spans.items() if key.startswith(\"coref_head\")]\n",
    "for cluster in word_clusters:\n",
    "    print(cluster)\n",
    "\n",
    "# check the expanded clusters\n",
    "print(\"=== full clusters ===\")\n",
    "full_clusters = [val for key, val in doc.spans.items() if key.startswith(\"coref_cluster\")]\n",
    "for cluster in full_clusters:\n",
    "    print(cluster)"
   ]
  }
 ],
 "metadata": {
  "kernelspec": {
   "display_name": "Python 3",
   "language": "python",
   "name": "python3"
  },
  "language_info": {
   "codemirror_mode": {
    "name": "ipython",
    "version": 3
   },
   "file_extension": ".py",
   "mimetype": "text/x-python",
   "name": "python",
   "nbconvert_exporter": "python",
   "pygments_lexer": "ipython3",
   "version": "3.8.10"
  },
  "orig_nbformat": 4
 },
 "nbformat": 4,
 "nbformat_minor": 2
}
