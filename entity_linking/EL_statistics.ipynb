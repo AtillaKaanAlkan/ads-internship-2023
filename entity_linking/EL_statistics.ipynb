{
 "cells": [
  {
   "cell_type": "code",
   "execution_count": null,
   "metadata": {},
   "outputs": [],
   "source": [
    "import celestial_object_entity_linking\n",
    "from celestial_object_entity_linking import CelestialObjectEntityLinking\n",
    "import json\n",
    "from helper import *\n",
    "import time"
   ]
  },
  {
   "cell_type": "markdown",
   "metadata": {},
   "source": [
    "#### Load TDAC and DEAL-shared task corpora"
   ]
  },
  {
   "cell_type": "code",
   "execution_count": null,
   "metadata": {},
   "outputs": [],
   "source": [
    "with open(\"/home/alkan/Documents/NLP/TDAC-main/tdac_ref_labels.jsonl\", 'r') as f:\n",
    "    tdac_json = [json.loads(l) for l in list(f)]\n",
    "\n",
    "with open(\"/home/alkan/Documents/DEAL/corpus/WIESP2022-NER-TRAINING.jsonl\", 'r') as f:\n",
    "    wiesp_train_json = [json.loads(l) for l in list(f)]\n",
    "\n",
    "with open(\"/home/alkan/Documents/DEAL/corpus/WIESP2022-NER-VALIDATION.jsonl\", 'r') as f:\n",
    "    wiesp_dev_json = [json.loads(l) for l in list(f)]\n",
    "\n",
    "with open(\"/home/alkan/Documents/DEAL/corpus/WIESP2022-NER-TESTING.jsonl\", 'r') as f:\n",
    "    wiesp_test_json = [json.loads(l) for l in list(f)]\n",
    "\n",
    "wiesp_json = wiesp_train_json + wiesp_dev_json + wiesp_test_json"
   ]
  },
  {
   "cell_type": "markdown",
   "metadata": {},
   "source": [
    "#### How many CelestialObject-type entities are identified in SIMBAD in both corpora? "
   ]
  },
  {
   "cell_type": "markdown",
   "metadata": {},
   "source": [
    "##### For TDAC:"
   ]
  },
  {
   "cell_type": "code",
   "execution_count": null,
   "metadata": {},
   "outputs": [],
   "source": [
    "nb_cob_total = 0\n",
    "for doc in tdac_json:\n",
    "    COb, source_name = extract_only_celestial_object_from_ner_module_output(doc['tokens'], doc['ref_ner_tags'])\n",
    "    nb_cob_total += len(source_name)\n",
    "print(f'Number of CelestialObject-type entities in the corpus: {nb_cob_total}')"
   ]
  },
  {
   "cell_type": "code",
   "execution_count": null,
   "metadata": {},
   "outputs": [],
   "source": [
    "nb_found = 0\n",
    "nb_not_found = 0\n",
    "with open('TDAC_sources_not_found', 'w') as file:\n",
    "    for doc in tdac_json:\n",
    "        Cob_only, source_name = extract_only_celestial_object_from_ner_module_output(doc['tokens'], doc['ref_ner_tags'])\n",
    "        if source_name != []:\n",
    "            EL = CelestialObjectEntityLinking(source_name = source_name, KB = 'SIMBAD')\n",
    "            results = EL.get_source_identifier_from_KB()\n",
    "            print(results)\n",
    "            time.sleep(10)\n",
    "            for source in results.keys():\n",
    "                if results[source] == None:\n",
    "                    nb_not_found += 1\n",
    "                    \n",
    "                    file.write(f'{source}\\n')\n",
    "                else:\n",
    "                    nb_found += 1"
   ]
  },
  {
   "cell_type": "code",
   "execution_count": null,
   "metadata": {},
   "outputs": [],
   "source": [
    "print(f'Proportion of Celestial Object found in {EL.KB} catalog: {(nb_found/nb_cob_total)*100} %.')"
   ]
  },
  {
   "cell_type": "markdown",
   "metadata": {},
   "source": [
    "##### For DEAL:"
   ]
  },
  {
   "cell_type": "code",
   "execution_count": null,
   "metadata": {},
   "outputs": [],
   "source": [
    "nb_cob_total = 0\n",
    "for doc in wiesp_json:\n",
    "    COb, source_name = extract_only_celestial_object_from_ner_module_output(doc['tokens'], doc['ner_tags'])\n",
    "    nb_cob_total += len(source_name)\n",
    "print(f'Number of CelestialObject-type entities in the corpus: {nb_cob_total}')"
   ]
  },
  {
   "cell_type": "code",
   "execution_count": null,
   "metadata": {},
   "outputs": [],
   "source": [
    "nb_found = 0\n",
    "nb_not_found = 0\n",
    "nb_doc = 0\n",
    "for doc in wiesp_json:\n",
    "    Cob_only, source_name = extract_only_celestial_object_from_ner_module_output(doc['tokens'], doc['ner_tags'])\n",
    "    if source_name != []:\n",
    "        EL = CelestialObjectEntityLinking(source_name = source_name,\n",
    "                                          KB = 'SIMBAD',\n",
    "                                         )\n",
    "        results = EL.get_source_identifier_from_KB()\n",
    "        time.sleep(4)\n",
    "        for source in results.keys():\n",
    "            if results[source] == None:\n",
    "                nb_not_found += 1\n",
    "            else:\n",
    "                nb_found += 1\n",
    "\n",
    "    nb_doc += 1\n",
    "    print(nb_doc)"
   ]
  },
  {
   "cell_type": "code",
   "execution_count": null,
   "metadata": {},
   "outputs": [],
   "source": [
    "print(f'Proportion of Celestial Object found in {EL.KB} catalog: {(nb_found/nb_cob_total)*100} %.')"
   ]
  },
  {
   "cell_type": "code",
   "execution_count": null,
   "metadata": {},
   "outputs": [],
   "source": []
  }
 ],
 "metadata": {
  "kernelspec": {
   "display_name": "base",
   "language": "python",
   "name": "python3"
  },
  "language_info": {
   "codemirror_mode": {
    "name": "ipython",
    "version": 3
   },
   "file_extension": ".py",
   "mimetype": "text/x-python",
   "name": "python",
   "nbconvert_exporter": "python",
   "pygments_lexer": "ipython3",
   "version": "3.9.12"
  },
  "orig_nbformat": 4
 },
 "nbformat": 4,
 "nbformat_minor": 2
}
