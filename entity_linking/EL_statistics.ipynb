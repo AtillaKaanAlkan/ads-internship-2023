{
 "cells": [
  {
   "cell_type": "code",
   "execution_count": 1,
   "metadata": {},
   "outputs": [],
   "source": [
    "import celestial_object_entity_linking\n",
    "from celestial_object_entity_linking import CelestialObjectEntityLinking\n",
    "import json\n",
    "from helper import *"
   ]
  },
  {
   "cell_type": "markdown",
   "metadata": {},
   "source": [
    "#### Load TDAC and DEAL-shared task corpora"
   ]
  },
  {
   "cell_type": "code",
   "execution_count": 2,
   "metadata": {},
   "outputs": [],
   "source": [
    "with open(\"/home/alkan/Documents/NLP/TDAC-main/tdac_ref_labels.jsonl\", 'r') as f:\n",
    "    tdac_json = [json.loads(l) for l in list(f)]\n",
    "\n",
    "with open(\"/home/alkan/Documents/DEAL/corpus/WIESP2022-NER-TRAINING.jsonl\", 'r') as f:\n",
    "    wiesp_train_json = [json.loads(l) for l in list(f)]\n",
    "\n",
    "with open(\"/home/alkan/Documents/DEAL/corpus/WIESP2022-NER-VALIDATION.jsonl\", 'r') as f:\n",
    "    wiesp_dev_json = [json.loads(l) for l in list(f)]\n",
    "\n",
    "with open(\"/home/alkan/Documents/DEAL/corpus/WIESP2022-NER-TESTING.jsonl\", 'r') as f:\n",
    "    wiesp_test_json = [json.loads(l) for l in list(f)]"
   ]
  },
  {
   "cell_type": "markdown",
   "metadata": {},
   "source": [
    "#### How many CelestialObject-type entities are identified in SIMBAD in both corpora? "
   ]
  },
  {
   "cell_type": "markdown",
   "metadata": {},
   "source": [
    "##### For TDAC:"
   ]
  },
  {
   "cell_type": "code",
   "execution_count": 3,
   "metadata": {},
   "outputs": [
    {
     "name": "stdout",
     "output_type": "stream",
     "text": [
      "Number of CelestialObject-type entities in the corpus: 181\n"
     ]
    }
   ],
   "source": [
    "nb_cob_total = 0\n",
    "for doc in tdac_json:\n",
    "    COb, source_name = extract_only_celestial_object_from_ner_module_output(doc['tokens'], doc['ref_ner_tags'])\n",
    "    nb_cob_total += len(source_name)\n",
    "print(f'Number of CelestialObject-type entities in the corpus: {nb_cob_total}')\n"
   ]
  },
  {
   "cell_type": "code",
   "execution_count": 4,
   "metadata": {},
   "outputs": [
    {
     "name": "stdout",
     "output_type": "stream",
     "text": [
      "No CelestialObject-type entity in the given list\n",
      "None\n",
      "{'BZU J0742 +': None}\n",
      "{'MAXI J1747 -': None, 'GRS 1747 -': None, 'Terzan': None}\n",
      "No CelestialObject-type entity in the given list\n",
      "None\n",
      "{'J0109 +': None, 'VCS2 J0109 +': None, '': None}\n",
      "{'Blazar S41030 +': None, 'BZBJ1033 +': None, '1FGLJ1033.8 +': None}\n",
      "{'PSN J07101678 +': None, 'SN': None}\n",
      "{'PNV J00422000 +': None}\n",
      "No CelestialObject-type entity in the given list\n",
      "None\n",
      "{'MASTER OT J040052.30 +': None, 'MASTER OT J153340.65 -': None, 'MASTER OT J164641.18 -': None}\n",
      "{'PKS0735 +': None, 'CGRaBSJ04738 +': None, '2FGL0738.0 +': None}\n",
      "{'': None, 'NGC': None}\n",
      "{'2MASX J11200680 +': None, '': None, 'SN': None}\n",
      "{'PKS 2004 -': None, '4FGL J2007.9 -': None, '': None}\n",
      "{'AX': None}\n",
      "{'TXS0025 +': None}\n",
      "{'': None, 'Swift J1822.3 -': None, '2RXP J182217.9 -': None, '1WGA J1822.2 -': None, 'SGR J1822 -': None}\n",
      "No CelestialObject-type entity in the given list\n",
      "None\n",
      "No CelestialObject-type entity in the given list\n",
      "None\n",
      "{'IGR J18284 -': None}\n",
      "{'': None, 'SN': None}\n",
      "{'MAXI J1820 +': None}\n",
      "{'': None}\n",
      "{'PS1 -': None, 'PS1': None, 'CRTS source CSS120121:094613 +': None, 'SDSS J094612.91 +': None, '': None}\n",
      "{'MASTER OT J105440.86 -': None, '': None, 'MASTER OT J160918.30 -': None, 'MASTER OT J155546.00 -': None}\n",
      "{'GRB': None, '': None}\n",
      "{'GRB': None}\n",
      "{'GRB': None, 'trigger 567202302 /': None}\n",
      "{'GRB': None}\n",
      "{'GRB': None}\n",
      "{'': None}\n",
      "{'': None}\n",
      "{'': None, '#': None}\n",
      "{'': None, 'GRB': None}\n",
      "{'SGR 1935 +': None}\n",
      "{'GRB': None}\n",
      "{'': None}\n",
      "{'GRB': None}\n",
      "{'': None, 'GRB': None}\n",
      "{'': None}\n",
      "{'': None}\n",
      "{'': None, 'GRB': None, 'GCN': None}\n",
      "{'GRB': None}\n",
      "{'GRB': None}\n",
      "{'GRB': None, '': None}\n",
      "{'GRB': None, '': None}\n",
      "{'SGR1900 +': None}\n",
      "{'GRB': None, '': None}\n",
      "{'GRB': None}\n",
      "{'GRB': None, 'trigger': None}\n",
      "{'ABELL S0753:[WFC91 ]': None, '': None}\n",
      "No CelestialObject-type entity in the given list\n",
      "None\n",
      "No CelestialObject-type entity in the given list\n",
      "None\n",
      "No CelestialObject-type entity in the given list\n",
      "None\n",
      "{'': None}\n",
      "{'': None}\n",
      "{'': None}\n",
      "{'': None, 'NGC': None}\n",
      "No CelestialObject-type entity in the given list\n",
      "None\n",
      "{'': None}\n",
      "{'': None}\n",
      "No CelestialObject-type entity in the given list\n",
      "None\n",
      "{'SN': None}\n",
      "{'': None}\n",
      "{'': None}\n",
      "{'': None, 'SN Ic': None}\n",
      "{'ESO 365- G': None, '': None}\n",
      "No CelestialObject-type entity in the given list\n",
      "None\n",
      "No CelestialObject-type entity in the given list\n",
      "None\n",
      "{'': None}\n",
      "{'': None}\n",
      "No CelestialObject-type entity in the given list\n",
      "None\n",
      "{'': None}\n",
      "{'': None, 'UGC': None}\n"
     ]
    }
   ],
   "source": [
    "nb_cob_identified = 0\n",
    "for doc in tdac_json:\n",
    "    EL = CelestialObjectEntityLinking(pipeline = 'with_ner_preds', source_name = '', KB = 'SIMBAD', path_to_text = None, tokens = doc['tokens'], ner_tags = doc['ref_ner_tags'])\n",
    "    result = EL.get_source_identifier_from_KB()\n",
    "    print(result)\n",
    "    "
   ]
  },
  {
   "cell_type": "code",
   "execution_count": null,
   "metadata": {},
   "outputs": [],
   "source": [
    "EL = CelestialObjectEntityLinking(pipeline = 'with_ner_preds', source_name = '', KB = 'SIMBAD', path_to_text = None, tokens = wiesp_train_json[5]['tokens'], ner_tags = wiesp_train_json[5]['ner_tags'])"
   ]
  },
  {
   "cell_type": "code",
   "execution_count": null,
   "metadata": {},
   "outputs": [],
   "source": [
    "type(EL.get_source_identifier_from_KB())"
   ]
  },
  {
   "cell_type": "code",
   "execution_count": null,
   "metadata": {},
   "outputs": [],
   "source": []
  }
 ],
 "metadata": {
  "kernelspec": {
   "display_name": "base",
   "language": "python",
   "name": "python3"
  },
  "language_info": {
   "codemirror_mode": {
    "name": "ipython",
    "version": 3
   },
   "file_extension": ".py",
   "mimetype": "text/x-python",
   "name": "python",
   "nbconvert_exporter": "python",
   "pygments_lexer": "ipython3",
   "version": "3.9.12"
  },
  "orig_nbformat": 4
 },
 "nbformat": 4,
 "nbformat_minor": 2
}
